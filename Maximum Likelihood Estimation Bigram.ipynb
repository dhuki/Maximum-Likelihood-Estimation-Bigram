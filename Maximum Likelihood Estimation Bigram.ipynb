{
 "cells": [
  {
   "cell_type": "code",
   "execution_count": 1,
   "metadata": {
    "collapsed": true
   },
   "outputs": [],
   "source": [
    "import nltk\n",
    "import xlrd"
   ]
  },
  {
   "cell_type": "code",
   "execution_count": 2,
   "metadata": {
    "collapsed": true
   },
   "outputs": [],
   "source": [
    "#================================================================\n",
    "# Memasukan seluruh sumber artikel ke list pada python dan di tokenisasi\n",
    "\n",
    "temp = list()\n",
    "\n",
    "book = xlrd.open_workbook(\"1301154265_DataSet.xlsx\")\n",
    "sh = book.sheet_by_index(0)\n",
    "\n",
    "for i in range(sh.nrows):\n",
    "    if (i > 0):\n",
    "        temp.append(sh.cell_value(i,2))\n",
    "\n",
    "allDataSet = ''.join(temp)\n",
    "\n",
    "totalContent = nltk.word_tokenize(allDataSet.lower())\n",
    "\n",
    "#======================================================================"
   ]
  },
  {
   "cell_type": "code",
   "execution_count": 3,
   "metadata": {
    "collapsed": true
   },
   "outputs": [],
   "source": [
    "#======================================================================\n",
    "\n",
    "# perhitungan count bigram\n",
    "\n",
    "dictionary = {}\n",
    "j = 0\n",
    "\n",
    "for i in range((len(totalContent))-1):\n",
    "    j = (i + 1)\n",
    "    if (totalContent[i],totalContent[j]) in dictionary: # melakukan perhitungan kata bigram pada dictionary / count(w(i-1),w(i))\n",
    "        dictionary[str(totalContent[i]), str(totalContent[j])] += 1\n",
    "    else :\n",
    "        dictionary[str(totalContent[i]), str(totalContent[j])] = 1\n",
    "\n",
    "#======================================================================"
   ]
  },
  {
   "cell_type": "code",
   "execution_count": 4,
   "metadata": {
    "collapsed": true
   },
   "outputs": [],
   "source": [
    "#======================================================================\n",
    "\n",
    "# perhitungan count unigram\n",
    "\n",
    "dictionary2 = {}\n",
    "\n",
    "for token in totalContent: # melakukan perhitungan kata unigram pada dictionary2 / count(w(i))\n",
    "    if token in dictionary2:\n",
    "        dictionary2[token] += 1\n",
    "    else:\n",
    "        dictionary2[token] = 1\n",
    "\n",
    "#======================================================================"
   ]
  },
  {
   "cell_type": "code",
   "execution_count": 5,
   "metadata": {
    "collapsed": true
   },
   "outputs": [],
   "source": [
    "#======================================================================\n",
    "\n",
    "# perhitungana probability\n",
    "\n",
    "dictionary3 = {}\n",
    "\n",
    "for i in range(len(totalContent)-1):\n",
    "    j = (i+1)\n",
    "    dictionary3[str(totalContent[i]),str(totalContent[j])] = dictionary[totalContent[i],totalContent[j]] / dictionary2[totalContent[i]]\n",
    "\n",
    "# melakukan perhitungan Maximum Likelihood Estimate --> p(w(i)|w(i-1)) = count(w(i-1),w(i)) / count(w(i-1))\n",
    "\n",
    "#======================================================================="
   ]
  },
  {
   "cell_type": "code",
   "execution_count": 6,
   "metadata": {},
   "outputs": [
    {
     "name": "stdout",
     "output_type": "stream",
     "text": [
      "Masukan kata untuk di prediksi kemunculan selanjutnya : saya\n",
      "saya tidak\n"
     ]
    }
   ],
   "source": [
    "#=======================================================================\n",
    "\n",
    "# memprediksi kata yang keluar selanjutnya dari inputan menggunakan probability\n",
    "\n",
    "word = input(\"Masukan kata untuk di prediksi kemunculan selanjutnya : \").lower()\n",
    "prediksi = ''\n",
    "max = -9999999\n",
    "for i in totalContent:\n",
    "    if (word,i) in dictionary3.keys():\n",
    "        if (max <= dictionary3[word,i]):\n",
    "            max = dictionary3[word,i]\n",
    "            prediksi = i\n",
    "\n",
    "if (prediksi == ''):\n",
    "    prediksi = 'null'\n",
    "\n",
    "print(word,prediksi)\n",
    "\n",
    "# melakukan pengecekan terhadap kata inputan dari user apabila 2 kata bigram terdapat pada dictionary\n",
    "# maka akan dicari propbability tertingginya\n",
    "\n",
    "#========================================================================"
   ]
  },
  {
   "cell_type": "code",
   "execution_count": 7,
   "metadata": {},
   "outputs": [
    {
     "name": "stdout",
     "output_type": "stream",
     "text": [
      "Masukan kalimat untuk dihitung perplexity nya  : saya makan\n",
      "Melakukan smoothing\n",
      "Hasil Perplexity:  91.0\n"
     ]
    }
   ],
   "source": [
    "#========================================================================\n",
    "\n",
    "# hitung perplexity\n",
    "\n",
    "def smoothingAddOne(arrayInput,dictionary):\n",
    "    V = 0\n",
    "    array = list()\n",
    "\n",
    "    for i in dictionary: # menambahkan setiap count dengan angka 1 terhadap semua bigram\n",
    "        dictionary[i] += 1\n",
    "\n",
    "\n",
    "    for i in range(len(arrayInput)-1): # menambahkan kata yang tidak ada pada bigram\n",
    "        j = (i+1)\n",
    "        if (arrayInput[i],arrayInput[j]) in dictionary.keys():\n",
    "            dictionary[str(arrayInput[i]),str(arrayInput[j])] += 1\n",
    "        else :\n",
    "            dictionary[str(arrayInput[i]), str(arrayInput[j])] = 1\n",
    "\n",
    "\n",
    "    for token in arrayInput: # menambahkan kata yang tidak ada pada unigram\n",
    "        if token in dictionary2:\n",
    "            dictionary2[token] += 1\n",
    "        else:\n",
    "            dictionary2[token] = 1\n",
    "\n",
    "\n",
    "    for i in range(len(arrayInput)): # perhitungan mencari nilai V\n",
    "        count = 0\n",
    "        for j in range(len(arrayInput)):\n",
    "            if arrayInput[i] == arrayInput[j]:\n",
    "                count += 1\n",
    "\n",
    "        if (count == 1):\n",
    "            V += 1\n",
    "        else :\n",
    "            if (len(array) == 0):\n",
    "                array.append(arrayInput[i])\n",
    "            else :\n",
    "                if (arrayInput[i]) not in array:\n",
    "                    array.append(arrayInput[i])\n",
    "\n",
    "    V += len(array) # V merupakan -> distinct Vocabulary dari sekumpulan kata test\n",
    "\n",
    "\n",
    "    for i in range(len(arrayInput) - 1): # melakukan perhitungan probability menggunakan rumus smoothing\n",
    "        j = (i + 1)\n",
    "        dictionary3[str(arrayInput[i]), str(arrayInput[j])] = ((dictionary[arrayInput[i], arrayInput[j]]) + 1) / ((dictionary2[arrayInput[i]]) + V)\n",
    "\n",
    "\n",
    "    total = 1\n",
    "    for i in range(len(arrayInput) - 1): # perhitungan perplexity dari smoothing\n",
    "        j = (i + 1)\n",
    "        if (arrayInput[i], arrayInput[j]) in dictionary3.keys():\n",
    "            total = total * (1 / dictionary3[arrayInput[i], arrayInput[j]])\n",
    "\n",
    "    hasil = total ** (1 / (len(tokenisasiInput)-1))\n",
    "\n",
    "    return hasil\n",
    "\n",
    "tempInput = input(\"Masukan kalimat untuk dihitung perplexity nya  : \").lower()\n",
    "\n",
    "tokenisasiInput = nltk.word_tokenize(tempInput.lower())\n",
    "\n",
    "total = 1\n",
    "\n",
    "smoothing = False\n",
    "\n",
    "for i in range(len(tokenisasiInput)-1): #perhitungan perplexity dengan rumus perplexity tanpa rumus smoothing\n",
    "    j = (i+1)\n",
    "    if (tokenisasiInput[i],tokenisasiInput[j]) in dictionary3.keys():\n",
    "        total = total * (1 / dictionary3[tokenisasiInput[i],tokenisasiInput[j]])\n",
    "    else :\n",
    "        print(\"Melakukan smoothing\")\n",
    "        print(\"Hasil Perplexity: \",smoothingAddOne(tokenisasiInput, dictionary))\n",
    "        smoothing = True\n",
    "        break\n",
    "\n",
    "if not smoothing:\n",
    "    print(\"Hasil Perplexity: \",total**(1/(len(tokenisasiInput)-1))) # perhitungan perplexity tanpa smoothing\n",
    "\n",
    "#======================================================================="
   ]
  },
  {
   "cell_type": "code",
   "execution_count": 8,
   "metadata": {
    "collapsed": true
   },
   "outputs": [],
   "source": [
    "#=======================================================================\n",
    "\n",
    "# mengetahui hasil kemunculan kata bigram\n",
    "\n",
    "all2Article = open(\"1301154265_Count_Artikel.txt\",\"w+\")\n",
    "\n",
    "all2Article.write(str(dictionary)+\"\\n\\n\")\n",
    "\n",
    "all2Article.close()\n",
    "\n",
    "#======================================================================="
   ]
  },
  {
   "cell_type": "code",
   "execution_count": null,
   "metadata": {
    "collapsed": true
   },
   "outputs": [],
   "source": []
  }
 ],
 "metadata": {
  "kernelspec": {
   "display_name": "Python 3",
   "language": "python",
   "name": "python3"
  },
  "language_info": {
   "codemirror_mode": {
    "name": "ipython",
    "version": 3
   },
   "file_extension": ".py",
   "mimetype": "text/x-python",
   "name": "python",
   "nbconvert_exporter": "python",
   "pygments_lexer": "ipython3",
   "version": "3.6.3"
  }
 },
 "nbformat": 4,
 "nbformat_minor": 2
}
